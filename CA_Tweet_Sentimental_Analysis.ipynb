{
  "nbformat": 4,
  "nbformat_minor": 0,
  "metadata": {
    "colab": {
      "name": "CA_Tweet_Sentimental_Analysis.ipynb",
      "provenance": [],
      "collapsed_sections": []
    },
    "kernelspec": {
      "name": "python3",
      "display_name": "Python 3"
    },
    "language_info": {
      "name": "python"
    }
  },
  "cells": [
    {
      "cell_type": "code",
      "execution_count": 1,
      "metadata": {
        "colab": {
          "base_uri": "https://localhost:8080/"
        },
        "id": "9NPeFX7zkoSH",
        "outputId": "fb72b7dc-0a51-4d8a-efc5-63f62474eed8"
      },
      "outputs": [
        {
          "output_type": "stream",
          "name": "stdout",
          "text": [
            "--2022-08-08 16:26:06--  https://docs.google.com/spreadsheets/d/13Gx_EPrsfIEZoyru0KiM6RLa2XCmsY1i4uES05Ix-wA/export?format=xlsx\n",
            "Resolving docs.google.com (docs.google.com)... 108.177.119.101, 108.177.119.100, 108.177.119.102, ...\n",
            "Connecting to docs.google.com (docs.google.com)|108.177.119.101|:443... connected.\n",
            "HTTP request sent, awaiting response... 307 Temporary Redirect\n",
            "Location: https://doc-0g-bk-sheets.googleusercontent.com/export/3sm34aofsvmt5ehut1q6bddr3o/ctdo02pn93isfhn21l2c1mh6jc/1659975965000/108941869722513384537/*/13Gx_EPrsfIEZoyru0KiM6RLa2XCmsY1i4uES05Ix-wA?format=xlsx [following]\n",
            "Warning: wildcards not supported in HTTP.\n",
            "--2022-08-08 16:26:07--  https://doc-0g-bk-sheets.googleusercontent.com/export/3sm34aofsvmt5ehut1q6bddr3o/ctdo02pn93isfhn21l2c1mh6jc/1659975965000/108941869722513384537/*/13Gx_EPrsfIEZoyru0KiM6RLa2XCmsY1i4uES05Ix-wA?format=xlsx\n",
            "Resolving doc-0g-bk-sheets.googleusercontent.com (doc-0g-bk-sheets.googleusercontent.com)... 108.177.119.132, 2a00:1450:4013:c00::84\n",
            "Connecting to doc-0g-bk-sheets.googleusercontent.com (doc-0g-bk-sheets.googleusercontent.com)|108.177.119.132|:443... connected.\n",
            "HTTP request sent, awaiting response... 200 OK\n",
            "Length: unspecified [application/vnd.openxmlformats-officedocument.spreadsheetml.sheet]\n",
            "Saving to: ‘export?format=xlsx’\n",
            "\n",
            "export?format=xlsx      [ <=>                ] 407.90K  --.-KB/s    in 0.1s    \n",
            "\n",
            "2022-08-08 16:26:08 (3.50 MB/s) - ‘export?format=xlsx’ saved [417685]\n",
            "\n"
          ]
        }
      ],
      "source": [
        "!wget https://docs.google.com/spreadsheets/d/13Gx_EPrsfIEZoyru0KiM6RLa2XCmsY1i4uES05Ix-wA/export?format=xlsx"
      ]
    },
    {
      "cell_type": "code",
      "source": [
        "import os\n",
        "\n",
        "# Absolute path of a file\n",
        "old_name = 'export?format=xlsx'\n",
        "new_name = 'polarities_process.xlsx'\n",
        "\n",
        "# Renaming the file\n",
        "os.rename(old_name, new_name)"
      ],
      "metadata": {
        "id": "tz6pzZkImJBh"
      },
      "execution_count": 2,
      "outputs": []
    },
    {
      "cell_type": "code",
      "source": [
        "#Read Excel File\n",
        "import pandas as pd\n",
        "\n",
        "df = pd.read_excel('polarities_process.xlsx')\n",
        "df.head()"
      ],
      "metadata": {
        "colab": {
          "base_uri": "https://localhost:8080/",
          "height": 206
        },
        "id": "UZUlUQb0qzsd",
        "outputId": "ee4aa34f-d7ff-4b62-9d23-5718a27685c8"
      },
      "execution_count": 3,
      "outputs": [
        {
          "output_type": "execute_result",
          "data": {
            "text/plain": [
              "                                               Tweet    Author_name     Score  \\\n",
              "0  Il mIndiadiadiaistero della Difesa russo negat...  FraLauricella -0.205128   \n",
              "1  Hello world. My name is Lera, Iâ€™m love Ukrai...      kanatonII -0.800000   \n",
              "2  Hello world. My name is Alyona, i'm love Ukrai...   alyonational -4.320513   \n",
              "3  GenocideOflove Ukraines UkraineUnderAttack Ukr...       MPlechiy -0.900000   \n",
              "4  The price of Russian oil and gas.\\nThe price o...       hirraaii -0.051282   \n",
              "\n",
              "                                      Scoring String  Negativity  Positivity  \\\n",
              "0                           accuse (-0.21) ha (0.00)    0.205128         0.0   \n",
              "1                                       love (-0.80)    0.800000         0.0   \n",
              "2  love (-0.80) raped (-0.92) killed (-0.90) love...    4.320513         0.0   \n",
              "3                             genocideoflove (-0.90)    0.900000         0.0   \n",
              "4                               indifference (-0.05)    0.051282         0.0   \n",
              "\n",
              "   Uncovered Tokens  Total Tokens Sentiment  \n",
              "0              44.0          46.0  Negative  \n",
              "1              32.0          33.0  Negative  \n",
              "2              55.0          60.0  Negative  \n",
              "3              27.0          28.0  Negative  \n",
              "4              23.0          24.0  Negative  "
            ],
            "text/html": [
              "\n",
              "  <div id=\"df-5c297098-e1e4-4a79-a928-4abd6d553c34\">\n",
              "    <div class=\"colab-df-container\">\n",
              "      <div>\n",
              "<style scoped>\n",
              "    .dataframe tbody tr th:only-of-type {\n",
              "        vertical-align: middle;\n",
              "    }\n",
              "\n",
              "    .dataframe tbody tr th {\n",
              "        vertical-align: top;\n",
              "    }\n",
              "\n",
              "    .dataframe thead th {\n",
              "        text-align: right;\n",
              "    }\n",
              "</style>\n",
              "<table border=\"1\" class=\"dataframe\">\n",
              "  <thead>\n",
              "    <tr style=\"text-align: right;\">\n",
              "      <th></th>\n",
              "      <th>Tweet</th>\n",
              "      <th>Author_name</th>\n",
              "      <th>Score</th>\n",
              "      <th>Scoring String</th>\n",
              "      <th>Negativity</th>\n",
              "      <th>Positivity</th>\n",
              "      <th>Uncovered Tokens</th>\n",
              "      <th>Total Tokens</th>\n",
              "      <th>Sentiment</th>\n",
              "    </tr>\n",
              "  </thead>\n",
              "  <tbody>\n",
              "    <tr>\n",
              "      <th>0</th>\n",
              "      <td>Il mIndiadiadiaistero della Difesa russo negat...</td>\n",
              "      <td>FraLauricella</td>\n",
              "      <td>-0.205128</td>\n",
              "      <td>accuse (-0.21) ha (0.00)</td>\n",
              "      <td>0.205128</td>\n",
              "      <td>0.0</td>\n",
              "      <td>44.0</td>\n",
              "      <td>46.0</td>\n",
              "      <td>Negative</td>\n",
              "    </tr>\n",
              "    <tr>\n",
              "      <th>1</th>\n",
              "      <td>Hello world. My name is Lera, Iâ€™m love Ukrai...</td>\n",
              "      <td>kanatonII</td>\n",
              "      <td>-0.800000</td>\n",
              "      <td>love (-0.80)</td>\n",
              "      <td>0.800000</td>\n",
              "      <td>0.0</td>\n",
              "      <td>32.0</td>\n",
              "      <td>33.0</td>\n",
              "      <td>Negative</td>\n",
              "    </tr>\n",
              "    <tr>\n",
              "      <th>2</th>\n",
              "      <td>Hello world. My name is Alyona, i'm love Ukrai...</td>\n",
              "      <td>alyonational</td>\n",
              "      <td>-4.320513</td>\n",
              "      <td>love (-0.80) raped (-0.92) killed (-0.90) love...</td>\n",
              "      <td>4.320513</td>\n",
              "      <td>0.0</td>\n",
              "      <td>55.0</td>\n",
              "      <td>60.0</td>\n",
              "      <td>Negative</td>\n",
              "    </tr>\n",
              "    <tr>\n",
              "      <th>3</th>\n",
              "      <td>GenocideOflove Ukraines UkraineUnderAttack Ukr...</td>\n",
              "      <td>MPlechiy</td>\n",
              "      <td>-0.900000</td>\n",
              "      <td>genocideoflove (-0.90)</td>\n",
              "      <td>0.900000</td>\n",
              "      <td>0.0</td>\n",
              "      <td>27.0</td>\n",
              "      <td>28.0</td>\n",
              "      <td>Negative</td>\n",
              "    </tr>\n",
              "    <tr>\n",
              "      <th>4</th>\n",
              "      <td>The price of Russian oil and gas.\\nThe price o...</td>\n",
              "      <td>hirraaii</td>\n",
              "      <td>-0.051282</td>\n",
              "      <td>indifference (-0.05)</td>\n",
              "      <td>0.051282</td>\n",
              "      <td>0.0</td>\n",
              "      <td>23.0</td>\n",
              "      <td>24.0</td>\n",
              "      <td>Negative</td>\n",
              "    </tr>\n",
              "  </tbody>\n",
              "</table>\n",
              "</div>\n",
              "      <button class=\"colab-df-convert\" onclick=\"convertToInteractive('df-5c297098-e1e4-4a79-a928-4abd6d553c34')\"\n",
              "              title=\"Convert this dataframe to an interactive table.\"\n",
              "              style=\"display:none;\">\n",
              "        \n",
              "  <svg xmlns=\"http://www.w3.org/2000/svg\" height=\"24px\"viewBox=\"0 0 24 24\"\n",
              "       width=\"24px\">\n",
              "    <path d=\"M0 0h24v24H0V0z\" fill=\"none\"/>\n",
              "    <path d=\"M18.56 5.44l.94 2.06.94-2.06 2.06-.94-2.06-.94-.94-2.06-.94 2.06-2.06.94zm-11 1L8.5 8.5l.94-2.06 2.06-.94-2.06-.94L8.5 2.5l-.94 2.06-2.06.94zm10 10l.94 2.06.94-2.06 2.06-.94-2.06-.94-.94-2.06-.94 2.06-2.06.94z\"/><path d=\"M17.41 7.96l-1.37-1.37c-.4-.4-.92-.59-1.43-.59-.52 0-1.04.2-1.43.59L10.3 9.45l-7.72 7.72c-.78.78-.78 2.05 0 2.83L4 21.41c.39.39.9.59 1.41.59.51 0 1.02-.2 1.41-.59l7.78-7.78 2.81-2.81c.8-.78.8-2.07 0-2.86zM5.41 20L4 18.59l7.72-7.72 1.47 1.35L5.41 20z\"/>\n",
              "  </svg>\n",
              "      </button>\n",
              "      \n",
              "  <style>\n",
              "    .colab-df-container {\n",
              "      display:flex;\n",
              "      flex-wrap:wrap;\n",
              "      gap: 12px;\n",
              "    }\n",
              "\n",
              "    .colab-df-convert {\n",
              "      background-color: #E8F0FE;\n",
              "      border: none;\n",
              "      border-radius: 50%;\n",
              "      cursor: pointer;\n",
              "      display: none;\n",
              "      fill: #1967D2;\n",
              "      height: 32px;\n",
              "      padding: 0 0 0 0;\n",
              "      width: 32px;\n",
              "    }\n",
              "\n",
              "    .colab-df-convert:hover {\n",
              "      background-color: #E2EBFA;\n",
              "      box-shadow: 0px 1px 2px rgba(60, 64, 67, 0.3), 0px 1px 3px 1px rgba(60, 64, 67, 0.15);\n",
              "      fill: #174EA6;\n",
              "    }\n",
              "\n",
              "    [theme=dark] .colab-df-convert {\n",
              "      background-color: #3B4455;\n",
              "      fill: #D2E3FC;\n",
              "    }\n",
              "\n",
              "    [theme=dark] .colab-df-convert:hover {\n",
              "      background-color: #434B5C;\n",
              "      box-shadow: 0px 1px 3px 1px rgba(0, 0, 0, 0.15);\n",
              "      filter: drop-shadow(0px 1px 2px rgba(0, 0, 0, 0.3));\n",
              "      fill: #FFFFFF;\n",
              "    }\n",
              "  </style>\n",
              "\n",
              "      <script>\n",
              "        const buttonEl =\n",
              "          document.querySelector('#df-5c297098-e1e4-4a79-a928-4abd6d553c34 button.colab-df-convert');\n",
              "        buttonEl.style.display =\n",
              "          google.colab.kernel.accessAllowed ? 'block' : 'none';\n",
              "\n",
              "        async function convertToInteractive(key) {\n",
              "          const element = document.querySelector('#df-5c297098-e1e4-4a79-a928-4abd6d553c34');\n",
              "          const dataTable =\n",
              "            await google.colab.kernel.invokeFunction('convertToInteractive',\n",
              "                                                     [key], {});\n",
              "          if (!dataTable) return;\n",
              "\n",
              "          const docLinkHtml = 'Like what you see? Visit the ' +\n",
              "            '<a target=\"_blank\" href=https://colab.research.google.com/notebooks/data_table.ipynb>data table notebook</a>'\n",
              "            + ' to learn more about interactive tables.';\n",
              "          element.innerHTML = '';\n",
              "          dataTable['output_type'] = 'display_data';\n",
              "          await google.colab.output.renderOutput(dataTable, element);\n",
              "          const docLink = document.createElement('div');\n",
              "          docLink.innerHTML = docLinkHtml;\n",
              "          element.appendChild(docLink);\n",
              "        }\n",
              "      </script>\n",
              "    </div>\n",
              "  </div>\n",
              "  "
            ]
          },
          "metadata": {},
          "execution_count": 3
        }
      ]
    },
    {
      "cell_type": "markdown",
      "source": [
        "##**Prepare Dataset**"
      ],
      "metadata": {
        "id": "MOG8B9SDfSDC"
      }
    },
    {
      "cell_type": "code",
      "source": [
        "#Randomized The Dataset\n",
        "df = df.sample(frac=1).reset_index(drop=True)"
      ],
      "metadata": {
        "id": "8QOIMwrRhIme"
      },
      "execution_count": 4,
      "outputs": []
    },
    {
      "cell_type": "code",
      "source": [
        "#Rename target columns elements like negative to 0 and positive to 1\n",
        "df.loc[df['Sentiment'] == 'Positive', 'Sentiment'] = 1\n",
        "df.loc[df['Sentiment'] == 'Negative', 'Sentiment'] = 0"
      ],
      "metadata": {
        "id": "wauoNF25rxKL"
      },
      "execution_count": 5,
      "outputs": []
    },
    {
      "cell_type": "code",
      "source": [
        "#Select Training And Testing Data\n",
        "train_data = df.drop(['Tweet', 'Author_name', 'Scoring String','Sentiment'], axis=1)\n",
        "test_data = df[['Sentiment']]"
      ],
      "metadata": {
        "id": "ToQCyzBbtwwh"
      },
      "execution_count": 6,
      "outputs": []
    },
    {
      "cell_type": "code",
      "source": [
        "train_data.describe()"
      ],
      "metadata": {
        "colab": {
          "base_uri": "https://localhost:8080/",
          "height": 300
        },
        "id": "djBbCBI-viRJ",
        "outputId": "0477f097-9e56-4833-ebaa-e6cca3333abd"
      },
      "execution_count": 7,
      "outputs": [
        {
          "output_type": "execute_result",
          "data": {
            "text/plain": [
              "             Score   Negativity   Positivity  Uncovered Tokens  Total Tokens\n",
              "count  4192.000000  4192.000000  4192.000000       4192.000000   4192.000000\n",
              "mean     -0.226622     0.568244     0.341621         25.072758     27.187739\n",
              "std       0.845259     0.653272     0.396252         10.143292     10.585229\n",
              "min      -5.307692     0.000000     0.000000          2.000000      3.000000\n",
              "25%      -0.800000     0.000000     0.000000         19.000000     21.000000\n",
              "50%      -0.051282     0.384615     0.307692         22.000000     24.000000\n",
              "75%       0.384615     0.898077     0.512821         28.000000     30.000000\n",
              "max       3.256410     5.897436     3.256410         86.000000     89.000000"
            ],
            "text/html": [
              "\n",
              "  <div id=\"df-4750721c-46c3-41d3-b762-29e8c6f76638\">\n",
              "    <div class=\"colab-df-container\">\n",
              "      <div>\n",
              "<style scoped>\n",
              "    .dataframe tbody tr th:only-of-type {\n",
              "        vertical-align: middle;\n",
              "    }\n",
              "\n",
              "    .dataframe tbody tr th {\n",
              "        vertical-align: top;\n",
              "    }\n",
              "\n",
              "    .dataframe thead th {\n",
              "        text-align: right;\n",
              "    }\n",
              "</style>\n",
              "<table border=\"1\" class=\"dataframe\">\n",
              "  <thead>\n",
              "    <tr style=\"text-align: right;\">\n",
              "      <th></th>\n",
              "      <th>Score</th>\n",
              "      <th>Negativity</th>\n",
              "      <th>Positivity</th>\n",
              "      <th>Uncovered Tokens</th>\n",
              "      <th>Total Tokens</th>\n",
              "    </tr>\n",
              "  </thead>\n",
              "  <tbody>\n",
              "    <tr>\n",
              "      <th>count</th>\n",
              "      <td>4192.000000</td>\n",
              "      <td>4192.000000</td>\n",
              "      <td>4192.000000</td>\n",
              "      <td>4192.000000</td>\n",
              "      <td>4192.000000</td>\n",
              "    </tr>\n",
              "    <tr>\n",
              "      <th>mean</th>\n",
              "      <td>-0.226622</td>\n",
              "      <td>0.568244</td>\n",
              "      <td>0.341621</td>\n",
              "      <td>25.072758</td>\n",
              "      <td>27.187739</td>\n",
              "    </tr>\n",
              "    <tr>\n",
              "      <th>std</th>\n",
              "      <td>0.845259</td>\n",
              "      <td>0.653272</td>\n",
              "      <td>0.396252</td>\n",
              "      <td>10.143292</td>\n",
              "      <td>10.585229</td>\n",
              "    </tr>\n",
              "    <tr>\n",
              "      <th>min</th>\n",
              "      <td>-5.307692</td>\n",
              "      <td>0.000000</td>\n",
              "      <td>0.000000</td>\n",
              "      <td>2.000000</td>\n",
              "      <td>3.000000</td>\n",
              "    </tr>\n",
              "    <tr>\n",
              "      <th>25%</th>\n",
              "      <td>-0.800000</td>\n",
              "      <td>0.000000</td>\n",
              "      <td>0.000000</td>\n",
              "      <td>19.000000</td>\n",
              "      <td>21.000000</td>\n",
              "    </tr>\n",
              "    <tr>\n",
              "      <th>50%</th>\n",
              "      <td>-0.051282</td>\n",
              "      <td>0.384615</td>\n",
              "      <td>0.307692</td>\n",
              "      <td>22.000000</td>\n",
              "      <td>24.000000</td>\n",
              "    </tr>\n",
              "    <tr>\n",
              "      <th>75%</th>\n",
              "      <td>0.384615</td>\n",
              "      <td>0.898077</td>\n",
              "      <td>0.512821</td>\n",
              "      <td>28.000000</td>\n",
              "      <td>30.000000</td>\n",
              "    </tr>\n",
              "    <tr>\n",
              "      <th>max</th>\n",
              "      <td>3.256410</td>\n",
              "      <td>5.897436</td>\n",
              "      <td>3.256410</td>\n",
              "      <td>86.000000</td>\n",
              "      <td>89.000000</td>\n",
              "    </tr>\n",
              "  </tbody>\n",
              "</table>\n",
              "</div>\n",
              "      <button class=\"colab-df-convert\" onclick=\"convertToInteractive('df-4750721c-46c3-41d3-b762-29e8c6f76638')\"\n",
              "              title=\"Convert this dataframe to an interactive table.\"\n",
              "              style=\"display:none;\">\n",
              "        \n",
              "  <svg xmlns=\"http://www.w3.org/2000/svg\" height=\"24px\"viewBox=\"0 0 24 24\"\n",
              "       width=\"24px\">\n",
              "    <path d=\"M0 0h24v24H0V0z\" fill=\"none\"/>\n",
              "    <path d=\"M18.56 5.44l.94 2.06.94-2.06 2.06-.94-2.06-.94-.94-2.06-.94 2.06-2.06.94zm-11 1L8.5 8.5l.94-2.06 2.06-.94-2.06-.94L8.5 2.5l-.94 2.06-2.06.94zm10 10l.94 2.06.94-2.06 2.06-.94-2.06-.94-.94-2.06-.94 2.06-2.06.94z\"/><path d=\"M17.41 7.96l-1.37-1.37c-.4-.4-.92-.59-1.43-.59-.52 0-1.04.2-1.43.59L10.3 9.45l-7.72 7.72c-.78.78-.78 2.05 0 2.83L4 21.41c.39.39.9.59 1.41.59.51 0 1.02-.2 1.41-.59l7.78-7.78 2.81-2.81c.8-.78.8-2.07 0-2.86zM5.41 20L4 18.59l7.72-7.72 1.47 1.35L5.41 20z\"/>\n",
              "  </svg>\n",
              "      </button>\n",
              "      \n",
              "  <style>\n",
              "    .colab-df-container {\n",
              "      display:flex;\n",
              "      flex-wrap:wrap;\n",
              "      gap: 12px;\n",
              "    }\n",
              "\n",
              "    .colab-df-convert {\n",
              "      background-color: #E8F0FE;\n",
              "      border: none;\n",
              "      border-radius: 50%;\n",
              "      cursor: pointer;\n",
              "      display: none;\n",
              "      fill: #1967D2;\n",
              "      height: 32px;\n",
              "      padding: 0 0 0 0;\n",
              "      width: 32px;\n",
              "    }\n",
              "\n",
              "    .colab-df-convert:hover {\n",
              "      background-color: #E2EBFA;\n",
              "      box-shadow: 0px 1px 2px rgba(60, 64, 67, 0.3), 0px 1px 3px 1px rgba(60, 64, 67, 0.15);\n",
              "      fill: #174EA6;\n",
              "    }\n",
              "\n",
              "    [theme=dark] .colab-df-convert {\n",
              "      background-color: #3B4455;\n",
              "      fill: #D2E3FC;\n",
              "    }\n",
              "\n",
              "    [theme=dark] .colab-df-convert:hover {\n",
              "      background-color: #434B5C;\n",
              "      box-shadow: 0px 1px 3px 1px rgba(0, 0, 0, 0.15);\n",
              "      filter: drop-shadow(0px 1px 2px rgba(0, 0, 0, 0.3));\n",
              "      fill: #FFFFFF;\n",
              "    }\n",
              "  </style>\n",
              "\n",
              "      <script>\n",
              "        const buttonEl =\n",
              "          document.querySelector('#df-4750721c-46c3-41d3-b762-29e8c6f76638 button.colab-df-convert');\n",
              "        buttonEl.style.display =\n",
              "          google.colab.kernel.accessAllowed ? 'block' : 'none';\n",
              "\n",
              "        async function convertToInteractive(key) {\n",
              "          const element = document.querySelector('#df-4750721c-46c3-41d3-b762-29e8c6f76638');\n",
              "          const dataTable =\n",
              "            await google.colab.kernel.invokeFunction('convertToInteractive',\n",
              "                                                     [key], {});\n",
              "          if (!dataTable) return;\n",
              "\n",
              "          const docLinkHtml = 'Like what you see? Visit the ' +\n",
              "            '<a target=\"_blank\" href=https://colab.research.google.com/notebooks/data_table.ipynb>data table notebook</a>'\n",
              "            + ' to learn more about interactive tables.';\n",
              "          element.innerHTML = '';\n",
              "          dataTable['output_type'] = 'display_data';\n",
              "          await google.colab.output.renderOutput(dataTable, element);\n",
              "          const docLink = document.createElement('div');\n",
              "          docLink.innerHTML = docLinkHtml;\n",
              "          element.appendChild(docLink);\n",
              "        }\n",
              "      </script>\n",
              "    </div>\n",
              "  </div>\n",
              "  "
            ]
          },
          "metadata": {},
          "execution_count": 7
        }
      ]
    },
    {
      "cell_type": "code",
      "source": [
        "train_data.info()"
      ],
      "metadata": {
        "colab": {
          "base_uri": "https://localhost:8080/"
        },
        "id": "k2nvNvYavj5n",
        "outputId": "3400e635-f7ba-4f85-c363-bb013c358c48"
      },
      "execution_count": 8,
      "outputs": [
        {
          "output_type": "stream",
          "name": "stdout",
          "text": [
            "<class 'pandas.core.frame.DataFrame'>\n",
            "RangeIndex: 4192 entries, 0 to 4191\n",
            "Data columns (total 5 columns):\n",
            " #   Column            Non-Null Count  Dtype  \n",
            "---  ------            --------------  -----  \n",
            " 0   Score             4192 non-null   float64\n",
            " 1   Negativity        4192 non-null   float64\n",
            " 2   Positivity        4192 non-null   float64\n",
            " 3   Uncovered Tokens  4192 non-null   float64\n",
            " 4   Total Tokens      4192 non-null   float64\n",
            "dtypes: float64(5)\n",
            "memory usage: 163.9 KB\n"
          ]
        }
      ]
    },
    {
      "cell_type": "code",
      "source": [
        "#Select The Response and the predictor variables\n",
        "X = train_data\n",
        "Y = test_data.astype(int)"
      ],
      "metadata": {
        "id": "o0ee6KLYfkQ7"
      },
      "execution_count": 9,
      "outputs": []
    },
    {
      "cell_type": "code",
      "source": [
        "!pip install feature_engine"
      ],
      "metadata": {
        "colab": {
          "base_uri": "https://localhost:8080/"
        },
        "id": "0Cvgx4SZk_yI",
        "outputId": "6f5b36f8-4b75-4c32-d81e-7b04702f479d"
      },
      "execution_count": 10,
      "outputs": [
        {
          "output_type": "stream",
          "name": "stdout",
          "text": [
            "Looking in indexes: https://pypi.org/simple, https://us-python.pkg.dev/colab-wheels/public/simple/\n",
            "Collecting feature_engine\n",
            "  Downloading feature_engine-1.4.0-py2.py3-none-any.whl (276 kB)\n",
            "\u001b[K     |████████████████████████████████| 276 kB 16.4 MB/s \n",
            "\u001b[?25hCollecting statsmodels>=0.11.1\n",
            "  Downloading statsmodels-0.13.2-cp37-cp37m-manylinux_2_17_x86_64.manylinux2014_x86_64.whl (9.8 MB)\n",
            "\u001b[K     |████████████████████████████████| 9.8 MB 56.2 MB/s \n",
            "\u001b[?25hRequirement already satisfied: pandas>=1.0.3 in /usr/local/lib/python3.7/dist-packages (from feature_engine) (1.3.5)\n",
            "Requirement already satisfied: scikit-learn>=1.0.0 in /usr/local/lib/python3.7/dist-packages (from feature_engine) (1.0.2)\n",
            "Requirement already satisfied: numpy>=1.18.2 in /usr/local/lib/python3.7/dist-packages (from feature_engine) (1.21.6)\n",
            "Requirement already satisfied: scipy>=1.4.1 in /usr/local/lib/python3.7/dist-packages (from feature_engine) (1.7.3)\n",
            "Requirement already satisfied: pytz>=2017.3 in /usr/local/lib/python3.7/dist-packages (from pandas>=1.0.3->feature_engine) (2022.1)\n",
            "Requirement already satisfied: python-dateutil>=2.7.3 in /usr/local/lib/python3.7/dist-packages (from pandas>=1.0.3->feature_engine) (2.8.2)\n",
            "Requirement already satisfied: six>=1.5 in /usr/local/lib/python3.7/dist-packages (from python-dateutil>=2.7.3->pandas>=1.0.3->feature_engine) (1.15.0)\n",
            "Requirement already satisfied: joblib>=0.11 in /usr/local/lib/python3.7/dist-packages (from scikit-learn>=1.0.0->feature_engine) (1.1.0)\n",
            "Requirement already satisfied: threadpoolctl>=2.0.0 in /usr/local/lib/python3.7/dist-packages (from scikit-learn>=1.0.0->feature_engine) (3.1.0)\n",
            "Requirement already satisfied: patsy>=0.5.2 in /usr/local/lib/python3.7/dist-packages (from statsmodels>=0.11.1->feature_engine) (0.5.2)\n",
            "Requirement already satisfied: packaging>=21.3 in /usr/local/lib/python3.7/dist-packages (from statsmodels>=0.11.1->feature_engine) (21.3)\n",
            "Requirement already satisfied: pyparsing!=3.0.5,>=2.0.2 in /usr/local/lib/python3.7/dist-packages (from packaging>=21.3->statsmodels>=0.11.1->feature_engine) (3.0.9)\n",
            "Installing collected packages: statsmodels, feature-engine\n",
            "  Attempting uninstall: statsmodels\n",
            "    Found existing installation: statsmodels 0.10.2\n",
            "    Uninstalling statsmodels-0.10.2:\n",
            "      Successfully uninstalled statsmodels-0.10.2\n",
            "Successfully installed feature-engine-1.4.0 statsmodels-0.13.2\n"
          ]
        }
      ]
    },
    {
      "cell_type": "code",
      "source": [
        "from feature_engine.selection import DropDuplicateFeatures, DropConstantFeatures\n",
        "cons = DropConstantFeatures(tol = 1)\n",
        "cons.fit_transform(X)\n",
        "\n",
        "# Dropping Duplicate Features \n",
        "dup = DropDuplicateFeatures()\n",
        "X = dup.fit_transform(X)\n",
        "\n",
        "q_cons = DropConstantFeatures(tol = 0.99)\n",
        "X = q_cons.fit_transform(X)\n",
        "\n",
        "X.shape"
      ],
      "metadata": {
        "colab": {
          "base_uri": "https://localhost:8080/"
        },
        "id": "e_3Wm7X3kww3",
        "outputId": "e387abc8-5b1f-4059-c8d7-aeab0e18672b"
      },
      "execution_count": 11,
      "outputs": [
        {
          "output_type": "execute_result",
          "data": {
            "text/plain": [
              "(4192, 5)"
            ]
          },
          "metadata": {},
          "execution_count": 11
        }
      ]
    },
    {
      "cell_type": "code",
      "source": [
        "# Split the given dataset into training and testing\n",
        "from sklearn.model_selection import train_test_split\n",
        "X_train, X_test, y_train, y_test = train_test_split(X,Y,test_size=0.3,random_state=42)"
      ],
      "metadata": {
        "id": "f6nd-dbhgKFF"
      },
      "execution_count": 12,
      "outputs": []
    },
    {
      "cell_type": "code",
      "source": [
        "# Feature Scaling\n",
        "from sklearn.preprocessing import StandardScaler\n",
        "sc_X = StandardScaler()\n",
        "X_train = sc_X.fit_transform(X_train)\n",
        "X_test = sc_X.transform(X_test)"
      ],
      "metadata": {
        "id": "-3USMFRxh895"
      },
      "execution_count": 13,
      "outputs": []
    },
    {
      "cell_type": "markdown",
      "source": [
        "##**Predict Label**"
      ],
      "metadata": {
        "id": "-KwTCZe2j4mq"
      }
    },
    {
      "cell_type": "code",
      "source": [
        "def predict_label(model, sample):\n",
        "  row = sample.reshape(1,-1)\n",
        "  res = (model.predict(row)).round()\n",
        "  if res == 1:\n",
        "    print('Tweet Sentiment Is Positive')\n",
        "  else:\n",
        "    print('Tweet Sentiment Is Negative')"
      ],
      "metadata": {
        "id": "deZ3OmVFj4IV"
      },
      "execution_count": 14,
      "outputs": []
    },
    {
      "cell_type": "code",
      "source": [
        ""
      ],
      "metadata": {
        "id": "d0-DFTgCmkVR"
      },
      "execution_count": null,
      "outputs": []
    },
    {
      "cell_type": "markdown",
      "source": [
        "##**Random Forest Classifier**"
      ],
      "metadata": {
        "id": "frEY5YeBw3vQ"
      }
    },
    {
      "cell_type": "code",
      "source": [
        "#Import required libraries\n",
        "import matplotlib.pyplot as plt\n",
        "%matplotlib inline\n",
        "from sklearn.ensemble import RandomForestClassifier\n",
        "from sklearn.metrics import classification_report\n",
        "from sklearn.metrics import accuracy_score, confusion_matrix, recall_score,classification_report, roc_auc_score"
      ],
      "metadata": {
        "id": "r0otfHstwjXg"
      },
      "execution_count": null,
      "outputs": []
    },
    {
      "cell_type": "code",
      "source": [
        "# Fitting the classifier into the Training set\n",
        "from sklearn.ensemble import RandomForestClassifier\n",
        "RFC = RandomForestClassifier(random_state=1, n_jobs=-1, class_weight={0:1, 1:25}, criterion='gini', max_depth= 6, min_samples_split= 12, n_estimators= 400, warm_start=True)\n",
        "RFC.fit(X_train, y_train.values)"
      ],
      "metadata": {
        "id": "ANdlVT4QzeV3",
        "colab": {
          "base_uri": "https://localhost:8080/"
        },
        "outputId": "15d0c521-dc2d-4f17-b0c4-fa232d8466f8"
      },
      "execution_count": null,
      "outputs": [
        {
          "output_type": "stream",
          "name": "stderr",
          "text": [
            "/usr/local/lib/python3.7/dist-packages/ipykernel_launcher.py:4: DataConversionWarning: A column-vector y was passed when a 1d array was expected. Please change the shape of y to (n_samples,), for example using ravel().\n",
            "  after removing the cwd from sys.path.\n"
          ]
        },
        {
          "output_type": "execute_result",
          "data": {
            "text/plain": [
              "RandomForestClassifier(class_weight={0: 1, 1: 25}, max_depth=6,\n",
              "                       min_samples_split=12, n_estimators=400, n_jobs=-1,\n",
              "                       random_state=1, warm_start=True)"
            ]
          },
          "metadata": {},
          "execution_count": 45
        }
      ]
    },
    {
      "cell_type": "code",
      "source": [
        "# Predicting the test set results\n",
        "y_Pred = RFC.predict(X_test)"
      ],
      "metadata": {
        "id": "ynzN2NlxgrNf"
      },
      "execution_count": null,
      "outputs": []
    },
    {
      "cell_type": "code",
      "source": [
        "# Finding out the total accuracy of model\n",
        "acc = accuracy_score(y_test, y_Pred)\n",
        "acc*100"
      ],
      "metadata": {
        "colab": {
          "base_uri": "https://localhost:8080/"
        },
        "id": "Vg8WzkhAnW68",
        "outputId": "b0308111-66e1-47cc-b69b-fab7b2f71db2"
      },
      "execution_count": null,
      "outputs": [
        {
          "output_type": "execute_result",
          "data": {
            "text/plain": [
              "100.0"
            ]
          },
          "metadata": {},
          "execution_count": 47
        }
      ]
    },
    {
      "cell_type": "code",
      "source": [
        "# Classification Report\n",
        "from sklearn.metrics import classification_report\n",
        "print(classification_report(y_test, y_Pred))"
      ],
      "metadata": {
        "colab": {
          "base_uri": "https://localhost:8080/"
        },
        "id": "CaSNSfgdnZ1T",
        "outputId": "b4cae32e-921a-4b1b-b57d-958e3af1ad4e"
      },
      "execution_count": null,
      "outputs": [
        {
          "output_type": "stream",
          "name": "stdout",
          "text": [
            "              precision    recall  f1-score   support\n",
            "\n",
            "           0       1.00      1.00      1.00       629\n",
            "           1       1.00      1.00      1.00       629\n",
            "\n",
            "    accuracy                           1.00      1258\n",
            "   macro avg       1.00      1.00      1.00      1258\n",
            "weighted avg       1.00      1.00      1.00      1258\n",
            "\n"
          ]
        }
      ]
    },
    {
      "cell_type": "code",
      "source": [
        "# Testing\n",
        "sample = X_train[0]\n",
        "predict_label(RFC, sample)\n"
      ],
      "metadata": {
        "id": "JjDDb1sDovJI",
        "colab": {
          "base_uri": "https://localhost:8080/"
        },
        "outputId": "9cd148be-9028-4271-81d0-be361dc5238e"
      },
      "execution_count": null,
      "outputs": [
        {
          "output_type": "stream",
          "name": "stdout",
          "text": [
            "Tweet Sentiment Is Negative\n"
          ]
        }
      ]
    },
    {
      "cell_type": "code",
      "source": [
        ""
      ],
      "metadata": {
        "id": "cbIJEy8XjGwe"
      },
      "execution_count": null,
      "outputs": []
    },
    {
      "cell_type": "markdown",
      "source": [
        "##**Support Vector Machine (SVM)**"
      ],
      "metadata": {
        "id": "0lblraC6mbYE"
      }
    },
    {
      "cell_type": "code",
      "source": [
        "# Import The Required Libraries\n",
        "import numpy as np\n",
        "import matplotlib.pyplot as plt\n",
        "from sklearn.preprocessing import LabelEncoder\n",
        "from sklearn.metrics import confusion_matrix, f1_score, accuracy_score,classification_report\n",
        "from sklearn.model_selection import train_test_split\n",
        "from sklearn.svm import SVC\n",
        "from keras.utils.np_utils import to_categorical"
      ],
      "metadata": {
        "id": "fj__5agzmmyK"
      },
      "execution_count": null,
      "outputs": []
    },
    {
      "cell_type": "code",
      "source": [
        "#Standardized with Label Encoder\n",
        "label_enc = LabelEncoder()\n",
        "y_train_svm = label_enc.fit_transform(y_train)\n",
        "y_test_svm = label_enc.fit_transform(y_test)"
      ],
      "metadata": {
        "colab": {
          "base_uri": "https://localhost:8080/"
        },
        "id": "CJvmgZoem4iN",
        "outputId": "69f4c4ed-472b-41e3-e985-3177022a6d61"
      },
      "execution_count": null,
      "outputs": [
        {
          "output_type": "stream",
          "name": "stderr",
          "text": [
            "/usr/local/lib/python3.7/dist-packages/sklearn/preprocessing/_label.py:115: DataConversionWarning: A column-vector y was passed when a 1d array was expected. Please change the shape of y to (n_samples, ), for example using ravel().\n",
            "  y = column_or_1d(y, warn=True)\n"
          ]
        }
      ]
    },
    {
      "cell_type": "code",
      "source": [
        "# Train SVM Classifier by keeping decision function shape as one vs all\n",
        "SVM_classifier = SVC(decision_function_shape='ovr')\n",
        "SVM_classifier.fit(X_train, y_train_svm)"
      ],
      "metadata": {
        "colab": {
          "base_uri": "https://localhost:8080/"
        },
        "id": "gzjXaopQnJjK",
        "outputId": "0f37b4d1-6277-41b9-c549-0c0da736d152"
      },
      "execution_count": null,
      "outputs": [
        {
          "output_type": "execute_result",
          "data": {
            "text/plain": [
              "SVC()"
            ]
          },
          "metadata": {},
          "execution_count": 52
        }
      ]
    },
    {
      "cell_type": "code",
      "source": [
        "y_pred = SVM_classifier.predict(X_test)\n",
        "y_pred"
      ],
      "metadata": {
        "colab": {
          "base_uri": "https://localhost:8080/"
        },
        "id": "SGJJSQhYnTV3",
        "outputId": "a21fc41b-48bd-44b6-cd64-eb8cee3d2339"
      },
      "execution_count": null,
      "outputs": [
        {
          "output_type": "execute_result",
          "data": {
            "text/plain": [
              "array([1, 1, 1, ..., 1, 1, 0])"
            ]
          },
          "metadata": {},
          "execution_count": 53
        }
      ]
    },
    {
      "cell_type": "code",
      "source": [
        "accuracy = accuracy_score(y_test_svm,y_pred)\n",
        "accuracy*100"
      ],
      "metadata": {
        "colab": {
          "base_uri": "https://localhost:8080/"
        },
        "id": "6Y0RGQbNnY9V",
        "outputId": "b19ab6da-0d24-4f6d-c133-b50b039ae4af"
      },
      "execution_count": null,
      "outputs": [
        {
          "output_type": "execute_result",
          "data": {
            "text/plain": [
              "99.60254372019078"
            ]
          },
          "metadata": {},
          "execution_count": 54
        }
      ]
    },
    {
      "cell_type": "code",
      "source": [
        "# Classification Report\n",
        "c_report = classification_report(y_pred, y_test_svm)\n",
        "print(c_report)"
      ],
      "metadata": {
        "colab": {
          "base_uri": "https://localhost:8080/"
        },
        "id": "npROxFzvncQk",
        "outputId": "d872ac98-a65d-487b-c97b-8d6a0af50f9f"
      },
      "execution_count": null,
      "outputs": [
        {
          "output_type": "stream",
          "name": "stdout",
          "text": [
            "              precision    recall  f1-score   support\n",
            "\n",
            "           0       0.99      1.00      1.00       624\n",
            "           1       1.00      0.99      1.00       634\n",
            "\n",
            "    accuracy                           1.00      1258\n",
            "   macro avg       1.00      1.00      1.00      1258\n",
            "weighted avg       1.00      1.00      1.00      1258\n",
            "\n"
          ]
        }
      ]
    },
    {
      "cell_type": "code",
      "source": [
        "# Testing\n",
        "sample = X_train[0]\n",
        "predict_label(SVM_classifier,sample)"
      ],
      "metadata": {
        "colab": {
          "base_uri": "https://localhost:8080/"
        },
        "id": "N-7ZAb3pnhv5",
        "outputId": "4179146d-f797-4dd6-e8ee-07ac9466ab6c"
      },
      "execution_count": null,
      "outputs": [
        {
          "output_type": "stream",
          "name": "stdout",
          "text": [
            "Tweet Sentiment Is Negative\n"
          ]
        }
      ]
    },
    {
      "cell_type": "code",
      "source": [
        ""
      ],
      "metadata": {
        "id": "SIYE3J_Bnz82"
      },
      "execution_count": null,
      "outputs": []
    },
    {
      "cell_type": "markdown",
      "source": [
        "## **Decision tree Classifier**"
      ],
      "metadata": {
        "id": "1Cs9ew9in3pL"
      }
    },
    {
      "cell_type": "code",
      "source": [
        "# Import The Required Libraries\n",
        "import numpy as np\n",
        "import matplotlib.pyplot as plt\n",
        "from sklearn.preprocessing import LabelEncoder\n",
        "from sklearn.metrics import confusion_matrix, f1_score, accuracy_score,classification_report\n",
        "from sklearn.model_selection import train_test_split\n",
        "from sklearn.tree import DecisionTreeClassifier\n",
        "from keras.utils.np_utils import to_categorical"
      ],
      "metadata": {
        "id": "XFkgD8saoDfe"
      },
      "execution_count": 18,
      "outputs": []
    },
    {
      "cell_type": "code",
      "source": [
        "#Standardized with Label Encoder\n",
        "label_enc = LabelEncoder()\n",
        "y_train_dt = label_enc.fit_transform(y_train)\n",
        "y_test_dt = label_enc.fit_transform(y_test)"
      ],
      "metadata": {
        "colab": {
          "base_uri": "https://localhost:8080/",
          "height": 226
        },
        "id": "IRxjEJHuoGFc",
        "outputId": "97007f59-8ea3-4738-ddf2-0a359fd5344b"
      },
      "execution_count": 17,
      "outputs": [
        {
          "output_type": "error",
          "ename": "NameError",
          "evalue": "ignored",
          "traceback": [
            "\u001b[0;31m---------------------------------------------------------------------------\u001b[0m",
            "\u001b[0;31mNameError\u001b[0m                                 Traceback (most recent call last)",
            "\u001b[0;32m<ipython-input-17-9df94dabcb19>\u001b[0m in \u001b[0;36m<module>\u001b[0;34m()\u001b[0m\n\u001b[1;32m      1\u001b[0m \u001b[0;31m#Standardized with Label Encoder\u001b[0m\u001b[0;34m\u001b[0m\u001b[0;34m\u001b[0m\u001b[0;34m\u001b[0m\u001b[0m\n\u001b[0;32m----> 2\u001b[0;31m \u001b[0mlabel_enc\u001b[0m \u001b[0;34m=\u001b[0m \u001b[0mLabelEncoder\u001b[0m\u001b[0;34m(\u001b[0m\u001b[0;34m)\u001b[0m\u001b[0;34m\u001b[0m\u001b[0;34m\u001b[0m\u001b[0m\n\u001b[0m\u001b[1;32m      3\u001b[0m \u001b[0my_train_dt\u001b[0m \u001b[0;34m=\u001b[0m \u001b[0mlabel_enc\u001b[0m\u001b[0;34m.\u001b[0m\u001b[0mfit_transform\u001b[0m\u001b[0;34m(\u001b[0m\u001b[0my_train\u001b[0m\u001b[0;34m)\u001b[0m\u001b[0;34m\u001b[0m\u001b[0;34m\u001b[0m\u001b[0m\n\u001b[1;32m      4\u001b[0m \u001b[0my_test_dt\u001b[0m \u001b[0;34m=\u001b[0m \u001b[0mlabel_enc\u001b[0m\u001b[0;34m.\u001b[0m\u001b[0mfit_transform\u001b[0m\u001b[0;34m(\u001b[0m\u001b[0my_test\u001b[0m\u001b[0;34m)\u001b[0m\u001b[0;34m\u001b[0m\u001b[0;34m\u001b[0m\u001b[0m\n",
            "\u001b[0;31mNameError\u001b[0m: name 'LabelEncoder' is not defined"
          ]
        }
      ]
    },
    {
      "cell_type": "code",
      "source": [
        "dec_tree= DecisionTreeClassifier(max_depth=10)\n",
        "dec_tree.fit(X_train,y_train_dt)"
      ],
      "metadata": {
        "colab": {
          "base_uri": "https://localhost:8080/"
        },
        "id": "4SYR3jfwoe2K",
        "outputId": "e60d5bc4-114c-4a3c-a340-e13951d710fa"
      },
      "execution_count": null,
      "outputs": [
        {
          "output_type": "execute_result",
          "data": {
            "text/plain": [
              "DecisionTreeClassifier(max_depth=10)"
            ]
          },
          "metadata": {},
          "execution_count": 59
        }
      ]
    },
    {
      "cell_type": "code",
      "source": [
        "y_pred = dec_tree.predict(X_test)\n",
        "y_pred"
      ],
      "metadata": {
        "colab": {
          "base_uri": "https://localhost:8080/"
        },
        "id": "3zsvU1JZoj4H",
        "outputId": "e2c4d99e-782c-47b9-fcd5-16645da58b3e"
      },
      "execution_count": null,
      "outputs": [
        {
          "output_type": "execute_result",
          "data": {
            "text/plain": [
              "array([1, 1, 1, ..., 1, 1, 0])"
            ]
          },
          "metadata": {},
          "execution_count": 60
        }
      ]
    },
    {
      "cell_type": "code",
      "source": [
        "accuracy = accuracy_score(y_test_dt,y_pred)\n",
        "accuracy*100"
      ],
      "metadata": {
        "colab": {
          "base_uri": "https://localhost:8080/"
        },
        "id": "DACtNgt_ooM7",
        "outputId": "36256807-c701-4ec0-f2e1-536d46bc27ec"
      },
      "execution_count": null,
      "outputs": [
        {
          "output_type": "execute_result",
          "data": {
            "text/plain": [
              "100.0"
            ]
          },
          "metadata": {},
          "execution_count": 61
        }
      ]
    },
    {
      "cell_type": "code",
      "source": [
        "# Classification Report\n",
        "c_report = classification_report(y_pred, y_test_dt)\n",
        "print(c_report)"
      ],
      "metadata": {
        "colab": {
          "base_uri": "https://localhost:8080/",
          "height": 207
        },
        "id": "Dc8BsSsfos0q",
        "outputId": "90357fc1-8ae7-4e1c-e056-7f8157925096"
      },
      "execution_count": 16,
      "outputs": [
        {
          "output_type": "error",
          "ename": "NameError",
          "evalue": "ignored",
          "traceback": [
            "\u001b[0;31m---------------------------------------------------------------------------\u001b[0m",
            "\u001b[0;31mNameError\u001b[0m                                 Traceback (most recent call last)",
            "\u001b[0;32m<ipython-input-16-6ce01b738849>\u001b[0m in \u001b[0;36m<module>\u001b[0;34m()\u001b[0m\n\u001b[1;32m      1\u001b[0m \u001b[0;31m# Classification Report\u001b[0m\u001b[0;34m\u001b[0m\u001b[0;34m\u001b[0m\u001b[0;34m\u001b[0m\u001b[0m\n\u001b[0;32m----> 2\u001b[0;31m \u001b[0mc_report\u001b[0m \u001b[0;34m=\u001b[0m \u001b[0mclassification_report\u001b[0m\u001b[0;34m(\u001b[0m\u001b[0my_pred\u001b[0m\u001b[0;34m,\u001b[0m \u001b[0my_test_dt\u001b[0m\u001b[0;34m)\u001b[0m\u001b[0;34m\u001b[0m\u001b[0;34m\u001b[0m\u001b[0m\n\u001b[0m\u001b[1;32m      3\u001b[0m \u001b[0mprint\u001b[0m\u001b[0;34m(\u001b[0m\u001b[0mc_report\u001b[0m\u001b[0;34m)\u001b[0m\u001b[0;34m\u001b[0m\u001b[0;34m\u001b[0m\u001b[0m\n",
            "\u001b[0;31mNameError\u001b[0m: name 'classification_report' is not defined"
          ]
        }
      ]
    },
    {
      "cell_type": "code",
      "source": [
        "# Testing\n",
        "sample = X_train[0]\n",
        "predict_label(dec_tree,sample)"
      ],
      "metadata": {
        "colab": {
          "base_uri": "https://localhost:8080/",
          "height": 207
        },
        "id": "3-c_trcqoyQm",
        "outputId": "915de3df-347d-46d1-d9a7-c309ea4d206c"
      },
      "execution_count": 15,
      "outputs": [
        {
          "output_type": "error",
          "ename": "NameError",
          "evalue": "ignored",
          "traceback": [
            "\u001b[0;31m---------------------------------------------------------------------------\u001b[0m",
            "\u001b[0;31mNameError\u001b[0m                                 Traceback (most recent call last)",
            "\u001b[0;32m<ipython-input-15-6469990bc2e0>\u001b[0m in \u001b[0;36m<module>\u001b[0;34m()\u001b[0m\n\u001b[1;32m      1\u001b[0m \u001b[0;31m# Testing\u001b[0m\u001b[0;34m\u001b[0m\u001b[0;34m\u001b[0m\u001b[0;34m\u001b[0m\u001b[0m\n\u001b[1;32m      2\u001b[0m \u001b[0msample\u001b[0m \u001b[0;34m=\u001b[0m \u001b[0mX_train\u001b[0m\u001b[0;34m[\u001b[0m\u001b[0;36m0\u001b[0m\u001b[0;34m]\u001b[0m\u001b[0;34m\u001b[0m\u001b[0;34m\u001b[0m\u001b[0m\n\u001b[0;32m----> 3\u001b[0;31m \u001b[0mpredict_label\u001b[0m\u001b[0;34m(\u001b[0m\u001b[0mdec_tree\u001b[0m\u001b[0;34m,\u001b[0m\u001b[0msample\u001b[0m\u001b[0;34m)\u001b[0m\u001b[0;34m\u001b[0m\u001b[0;34m\u001b[0m\u001b[0m\n\u001b[0m",
            "\u001b[0;31mNameError\u001b[0m: name 'dec_tree' is not defined"
          ]
        }
      ]
    },
    {
      "cell_type": "code",
      "source": [
        ""
      ],
      "metadata": {
        "id": "2KXImDoZpA0b"
      },
      "execution_count": null,
      "outputs": []
    },
    {
      "cell_type": "markdown",
      "source": [
        "##**Generalized Linear Model**"
      ],
      "metadata": {
        "id": "H156Mj6bpCbr"
      }
    },
    {
      "cell_type": "code",
      "source": [
        "# Import The Required Libraries\n",
        "import numpy as np\n",
        "import matplotlib.pyplot as plt\n",
        "from sklearn.preprocessing import LabelEncoder\n",
        "from sklearn.metrics import confusion_matrix, f1_score, accuracy_score,classification_report\n",
        "from keras.utils.np_utils import to_categorical\n",
        "from sklearn import linear_model"
      ],
      "metadata": {
        "id": "y4aPjsiHqHqY"
      },
      "execution_count": null,
      "outputs": []
    },
    {
      "cell_type": "code",
      "source": [
        "#Standardized with Label Encoder\n",
        "label_enc = LabelEncoder()\n",
        "y_train_ld = label_enc.fit_transform(y_train)\n",
        "y_test_ld = label_enc.fit_transform(y_test)"
      ],
      "metadata": {
        "colab": {
          "base_uri": "https://localhost:8080/"
        },
        "id": "ztZxw9FXqmNA",
        "outputId": "5f981564-2e4a-4edd-cd6d-b7fb5b9cbb72"
      },
      "execution_count": null,
      "outputs": [
        {
          "output_type": "stream",
          "name": "stderr",
          "text": [
            "/usr/local/lib/python3.7/dist-packages/sklearn/preprocessing/_label.py:115: DataConversionWarning: A column-vector y was passed when a 1d array was expected. Please change the shape of y to (n_samples, ), for example using ravel().\n",
            "  y = column_or_1d(y, warn=True)\n"
          ]
        }
      ]
    },
    {
      "cell_type": "code",
      "source": [
        "clf = linear_model.LinearRegression()"
      ],
      "metadata": {
        "id": "bm_NsnAnqUz9"
      },
      "execution_count": null,
      "outputs": []
    },
    {
      "cell_type": "code",
      "source": [
        "clf.fit (X_train, y_train_ld) "
      ],
      "metadata": {
        "colab": {
          "base_uri": "https://localhost:8080/"
        },
        "id": "HYh3dlaVqfhN",
        "outputId": "0f4a1820-4f49-470e-d2b0-9ff441bc3bf4"
      },
      "execution_count": null,
      "outputs": [
        {
          "output_type": "execute_result",
          "data": {
            "text/plain": [
              "LinearRegression()"
            ]
          },
          "metadata": {},
          "execution_count": 67
        }
      ]
    },
    {
      "cell_type": "code",
      "source": [
        "y_pred = clf.predict(X_test)\n",
        "y_pred = (np.round(y_pred)).astype(int)\n",
        "y_pred[y_pred < 0] = 0\n",
        "y_pred[y_pred > 1] = 1\n",
        "y_pred"
      ],
      "metadata": {
        "colab": {
          "base_uri": "https://localhost:8080/"
        },
        "id": "6xi5YVSjqucS",
        "outputId": "da8d312d-4701-49f8-d184-6cd932f7d84a"
      },
      "execution_count": null,
      "outputs": [
        {
          "output_type": "execute_result",
          "data": {
            "text/plain": [
              "array([1, 1, 1, ..., 1, 1, 0])"
            ]
          },
          "metadata": {},
          "execution_count": 68
        }
      ]
    },
    {
      "cell_type": "code",
      "source": [
        "accuracy = accuracy_score(y_test_ld,y_pred)\n",
        "accuracy*100"
      ],
      "metadata": {
        "colab": {
          "base_uri": "https://localhost:8080/"
        },
        "id": "q_pUkkFJq1Cq",
        "outputId": "dc75cacf-2bea-4a80-c6f4-48f8c9f97d00"
      },
      "execution_count": null,
      "outputs": [
        {
          "output_type": "execute_result",
          "data": {
            "text/plain": [
              "97.77424483306835"
            ]
          },
          "metadata": {},
          "execution_count": 69
        }
      ]
    },
    {
      "cell_type": "code",
      "source": [
        "# Classification Report\n",
        "c_report = classification_report(y_pred, y_test_ld)\n",
        "print(c_report)"
      ],
      "metadata": {
        "colab": {
          "base_uri": "https://localhost:8080/"
        },
        "id": "DgjVksiQq7MH",
        "outputId": "317e782b-8a75-4df5-b2a8-b8963b12288d"
      },
      "execution_count": null,
      "outputs": [
        {
          "output_type": "stream",
          "name": "stdout",
          "text": [
            "              precision    recall  f1-score   support\n",
            "\n",
            "           0       0.96      1.00      0.98       601\n",
            "           1       1.00      0.96      0.98       657\n",
            "\n",
            "    accuracy                           0.98      1258\n",
            "   macro avg       0.98      0.98      0.98      1258\n",
            "weighted avg       0.98      0.98      0.98      1258\n",
            "\n"
          ]
        }
      ]
    },
    {
      "cell_type": "code",
      "source": [
        "# Testing\n",
        "sample = X_train[0]\n",
        "predict_label(clf,sample)"
      ],
      "metadata": {
        "colab": {
          "base_uri": "https://localhost:8080/"
        },
        "id": "SmtTdWuitl6F",
        "outputId": "d859ab40-bc8c-465d-dbfb-2ca00c10faa0"
      },
      "execution_count": null,
      "outputs": [
        {
          "output_type": "stream",
          "name": "stdout",
          "text": [
            "Tweet Sentiment Is Negative\n"
          ]
        }
      ]
    },
    {
      "cell_type": "code",
      "source": [
        ""
      ],
      "metadata": {
        "id": "mvHyQBfhvysF"
      },
      "execution_count": null,
      "outputs": []
    },
    {
      "cell_type": "markdown",
      "source": [
        "##**Gradient Boosting Classifier**"
      ],
      "metadata": {
        "id": "RJxTyIHHb32r"
      }
    },
    {
      "cell_type": "code",
      "source": [
        "from sklearn.ensemble import GradientBoostingClassifier\n",
        "import numpy as np\n",
        "from sklearn import metrics"
      ],
      "metadata": {
        "id": "kG0zhWRgcCEu"
      },
      "execution_count": null,
      "outputs": []
    },
    {
      "cell_type": "code",
      "source": [
        "from sklearn.preprocessing import MinMaxScaler\n",
        "scaler = MinMaxScaler()\n",
        "X_train_scale = scaler.fit_transform(X_train)\n",
        "X_test_scale = scaler.transform(X_test)"
      ],
      "metadata": {
        "id": "lxbr2whAcNB0"
      },
      "execution_count": null,
      "outputs": []
    },
    {
      "cell_type": "code",
      "source": [
        "gb = GradientBoostingClassifier(n_estimators=20, max_features=2, max_depth = 2, random_state = 0)"
      ],
      "metadata": {
        "id": "sqfKTE6WclH0"
      },
      "execution_count": null,
      "outputs": []
    },
    {
      "cell_type": "code",
      "source": [
        "gb.fit(X_train,y_train)"
      ],
      "metadata": {
        "colab": {
          "base_uri": "https://localhost:8080/"
        },
        "id": "T-wshY56c8d9",
        "outputId": "45474c1e-429f-4ecb-d9fb-e09ea2489a9d"
      },
      "execution_count": null,
      "outputs": [
        {
          "output_type": "stream",
          "name": "stderr",
          "text": [
            "/usr/local/lib/python3.7/dist-packages/sklearn/ensemble/_gb.py:494: DataConversionWarning: A column-vector y was passed when a 1d array was expected. Please change the shape of y to (n_samples, ), for example using ravel().\n",
            "  y = column_or_1d(y, warn=True)\n"
          ]
        },
        {
          "output_type": "execute_result",
          "data": {
            "text/plain": [
              "GradientBoostingClassifier(max_depth=2, max_features=2, n_estimators=20,\n",
              "                           random_state=0)"
            ]
          },
          "metadata": {},
          "execution_count": 75
        }
      ]
    },
    {
      "cell_type": "code",
      "source": [
        "y_pred = gb.predict(X_test)\n",
        "y_pred"
      ],
      "metadata": {
        "colab": {
          "base_uri": "https://localhost:8080/"
        },
        "id": "J4AKeDVxdBf2",
        "outputId": "984e2e75-6713-45b4-f0de-d45d0ef03a62"
      },
      "execution_count": null,
      "outputs": [
        {
          "output_type": "execute_result",
          "data": {
            "text/plain": [
              "array([1, 1, 1, ..., 1, 1, 0])"
            ]
          },
          "metadata": {},
          "execution_count": 76
        }
      ]
    },
    {
      "cell_type": "code",
      "source": [
        "accuracy = accuracy_score(y_test,y_pred)\n",
        "accuracy*100"
      ],
      "metadata": {
        "colab": {
          "base_uri": "https://localhost:8080/"
        },
        "id": "kGOc_BgHdOuD",
        "outputId": "ecb34205-b750-4a86-8918-4e2ebe8abce3"
      },
      "execution_count": null,
      "outputs": [
        {
          "output_type": "execute_result",
          "data": {
            "text/plain": [
              "100.0"
            ]
          },
          "metadata": {},
          "execution_count": 77
        }
      ]
    },
    {
      "cell_type": "code",
      "source": [
        "# Classification Report\n",
        "c_report = classification_report(y_pred, y_test)\n",
        "print(c_report)"
      ],
      "metadata": {
        "colab": {
          "base_uri": "https://localhost:8080/"
        },
        "id": "ehAuXA8NdYgL",
        "outputId": "50aafc01-044c-438c-89f0-e2eb121250e9"
      },
      "execution_count": null,
      "outputs": [
        {
          "output_type": "stream",
          "name": "stdout",
          "text": [
            "              precision    recall  f1-score   support\n",
            "\n",
            "           0       1.00      1.00      1.00       629\n",
            "           1       1.00      1.00      1.00       629\n",
            "\n",
            "    accuracy                           1.00      1258\n",
            "   macro avg       1.00      1.00      1.00      1258\n",
            "weighted avg       1.00      1.00      1.00      1258\n",
            "\n"
          ]
        }
      ]
    },
    {
      "cell_type": "code",
      "source": [
        "# Testing\n",
        "sample = X_train[0]\n",
        "predict_label(gb,sample)"
      ],
      "metadata": {
        "colab": {
          "base_uri": "https://localhost:8080/"
        },
        "id": "CJYuT2MpddZj",
        "outputId": "cf4363c5-f5cd-45a1-ff93-6e03dd3905e7"
      },
      "execution_count": null,
      "outputs": [
        {
          "output_type": "stream",
          "name": "stdout",
          "text": [
            "Tweet Sentiment Is Negative\n"
          ]
        }
      ]
    },
    {
      "cell_type": "code",
      "source": [
        ""
      ],
      "metadata": {
        "id": "PL5DP0e6dh16"
      },
      "execution_count": null,
      "outputs": []
    },
    {
      "cell_type": "markdown",
      "source": [
        "##**Naive Bayes Classification**"
      ],
      "metadata": {
        "id": "iJZ3Ivnid1C7"
      }
    },
    {
      "cell_type": "code",
      "source": [
        "# training the model on training set\n",
        "from sklearn.naive_bayes import GaussianNB\n",
        "import numpy as np\n",
        "from sklearn import metrics"
      ],
      "metadata": {
        "id": "1rTxDLpyd7FN"
      },
      "execution_count": null,
      "outputs": []
    },
    {
      "cell_type": "code",
      "source": [
        "gnb = GaussianNB()\n",
        "gnb.fit(X_train, y_train)"
      ],
      "metadata": {
        "colab": {
          "base_uri": "https://localhost:8080/"
        },
        "id": "ex-OHjbQd_le",
        "outputId": "464e4efc-47f0-47d2-a89c-1961cff21f43"
      },
      "execution_count": null,
      "outputs": [
        {
          "output_type": "stream",
          "name": "stderr",
          "text": [
            "/usr/local/lib/python3.7/dist-packages/sklearn/utils/validation.py:993: DataConversionWarning: A column-vector y was passed when a 1d array was expected. Please change the shape of y to (n_samples, ), for example using ravel().\n",
            "  y = column_or_1d(y, warn=True)\n"
          ]
        },
        {
          "output_type": "execute_result",
          "data": {
            "text/plain": [
              "GaussianNB()"
            ]
          },
          "metadata": {},
          "execution_count": 81
        }
      ]
    },
    {
      "cell_type": "code",
      "source": [
        "y_pred = gnb.predict(X_test)\n",
        "y_pred"
      ],
      "metadata": {
        "colab": {
          "base_uri": "https://localhost:8080/"
        },
        "id": "DWmYIZiEeE5v",
        "outputId": "1bedfcf4-ca80-4b43-bab0-ce8871e1a12a"
      },
      "execution_count": null,
      "outputs": [
        {
          "output_type": "execute_result",
          "data": {
            "text/plain": [
              "array([1, 1, 1, ..., 1, 1, 0])"
            ]
          },
          "metadata": {},
          "execution_count": 82
        }
      ]
    },
    {
      "cell_type": "code",
      "source": [
        "accuracy = accuracy_score(y_test,y_pred)\n",
        "accuracy*100"
      ],
      "metadata": {
        "colab": {
          "base_uri": "https://localhost:8080/"
        },
        "id": "Aw2DcIgveNsg",
        "outputId": "cc4bcb60-2dd4-45b5-8091-38e9f84da2d1"
      },
      "execution_count": null,
      "outputs": [
        {
          "output_type": "execute_result",
          "data": {
            "text/plain": [
              "98.48966613672496"
            ]
          },
          "metadata": {},
          "execution_count": 83
        }
      ]
    },
    {
      "cell_type": "code",
      "source": [
        "# Classification Report\n",
        "c_report = classification_report(y_pred, y_test)\n",
        "print(c_report)"
      ],
      "metadata": {
        "colab": {
          "base_uri": "https://localhost:8080/"
        },
        "id": "PBXvIQnSeSfg",
        "outputId": "494f8476-820c-4cb5-e64c-ed1d88492a75"
      },
      "execution_count": null,
      "outputs": [
        {
          "output_type": "stream",
          "name": "stdout",
          "text": [
            "              precision    recall  f1-score   support\n",
            "\n",
            "           0       0.97      1.00      0.98       610\n",
            "           1       1.00      0.97      0.99       648\n",
            "\n",
            "    accuracy                           0.98      1258\n",
            "   macro avg       0.98      0.99      0.98      1258\n",
            "weighted avg       0.99      0.98      0.98      1258\n",
            "\n"
          ]
        }
      ]
    },
    {
      "cell_type": "code",
      "source": [
        "# Testing\n",
        "sample = X_train[0]\n",
        "predict_label(gnb,sample)"
      ],
      "metadata": {
        "colab": {
          "base_uri": "https://localhost:8080/"
        },
        "id": "sPnPYmo3eV-w",
        "outputId": "35c35aa0-c6f4-4d00-c694-9d100ab19968"
      },
      "execution_count": null,
      "outputs": [
        {
          "output_type": "stream",
          "name": "stdout",
          "text": [
            "Tweet Sentiment Is Negative\n"
          ]
        }
      ]
    },
    {
      "cell_type": "code",
      "source": [
        ""
      ],
      "metadata": {
        "id": "G37ryhJreb8I"
      },
      "execution_count": null,
      "outputs": []
    },
    {
      "cell_type": "markdown",
      "source": [
        "#**Classification With Deep Learning**"
      ],
      "metadata": {
        "id": "RVXR4UHgff0i"
      }
    },
    {
      "cell_type": "code",
      "source": [
        "from keras import models,layers\n",
        "from keras.models import Sequential\n",
        "from keras.layers import Dense"
      ],
      "metadata": {
        "id": "1JlXlnUGf3dh"
      },
      "execution_count": 19,
      "outputs": []
    },
    {
      "cell_type": "code",
      "source": [
        "model = Sequential([\n",
        "    Dense(32, activation='relu', input_shape=(5,)),\n",
        "    Dense(32, activation='relu'),\n",
        "     Dense(64, activation='relu'),\n",
        "     Dense(128, activation='relu'),\n",
        "    Dense(1, activation='sigmoid'),\n",
        "])"
      ],
      "metadata": {
        "id": "_IlXOgKzgIii"
      },
      "execution_count": 28,
      "outputs": []
    },
    {
      "cell_type": "code",
      "source": [
        "model.compile(optimizer='adam',\n",
        "              loss='binary_crossentropy',\n",
        "              metrics=['accuracy'])"
      ],
      "metadata": {
        "id": "guNIzVO-hYq4"
      },
      "execution_count": 29,
      "outputs": []
    },
    {
      "cell_type": "code",
      "source": [
        "history = model.fit(X_train, y_train,batch_size=10, epochs=50)"
      ],
      "metadata": {
        "colab": {
          "base_uri": "https://localhost:8080/"
        },
        "id": "Z2fNfQwHmL94",
        "outputId": "3de5de00-127e-4251-dca4-eb82eb4db007"
      },
      "execution_count": 30,
      "outputs": [
        {
          "output_type": "stream",
          "name": "stdout",
          "text": [
            "Epoch 1/50\n",
            "294/294 [==============================] - 1s 2ms/step - loss: 0.0835 - accuracy: 0.9836\n",
            "Epoch 2/50\n",
            "294/294 [==============================] - 0s 2ms/step - loss: 0.0148 - accuracy: 0.9939\n",
            "Epoch 3/50\n",
            "294/294 [==============================] - 0s 1ms/step - loss: 0.0069 - accuracy: 0.9976\n",
            "Epoch 4/50\n",
            "294/294 [==============================] - 0s 1ms/step - loss: 0.0028 - accuracy: 0.9997\n",
            "Epoch 5/50\n",
            "294/294 [==============================] - 0s 1ms/step - loss: 0.0019 - accuracy: 0.9997\n",
            "Epoch 6/50\n",
            "294/294 [==============================] - 0s 1ms/step - loss: 0.0015 - accuracy: 0.9993\n",
            "Epoch 7/50\n",
            "294/294 [==============================] - 0s 1ms/step - loss: 0.0091 - accuracy: 0.9973\n",
            "Epoch 8/50\n",
            "294/294 [==============================] - 0s 1ms/step - loss: 0.0026 - accuracy: 0.9993\n",
            "Epoch 9/50\n",
            "294/294 [==============================] - 0s 1ms/step - loss: 6.9553e-04 - accuracy: 1.0000\n",
            "Epoch 10/50\n",
            "294/294 [==============================] - 0s 1ms/step - loss: 0.0057 - accuracy: 0.9980\n",
            "Epoch 11/50\n",
            "294/294 [==============================] - 0s 1ms/step - loss: 0.0026 - accuracy: 0.9986\n",
            "Epoch 12/50\n",
            "294/294 [==============================] - 0s 1ms/step - loss: 4.6905e-04 - accuracy: 1.0000\n",
            "Epoch 13/50\n",
            "294/294 [==============================] - 0s 1ms/step - loss: 1.6087e-04 - accuracy: 1.0000\n",
            "Epoch 14/50\n",
            "294/294 [==============================] - 0s 1ms/step - loss: 1.3053e-04 - accuracy: 1.0000\n",
            "Epoch 15/50\n",
            "294/294 [==============================] - 0s 1ms/step - loss: 6.3523e-05 - accuracy: 1.0000\n",
            "Epoch 16/50\n",
            "294/294 [==============================] - 0s 1ms/step - loss: 4.6681e-05 - accuracy: 1.0000\n",
            "Epoch 17/50\n",
            "294/294 [==============================] - 0s 1ms/step - loss: 3.8490e-05 - accuracy: 1.0000\n",
            "Epoch 18/50\n",
            "294/294 [==============================] - 0s 1ms/step - loss: 3.4919e-05 - accuracy: 1.0000\n",
            "Epoch 19/50\n",
            "294/294 [==============================] - 0s 1ms/step - loss: 2.9143e-05 - accuracy: 1.0000\n",
            "Epoch 20/50\n",
            "294/294 [==============================] - 0s 1ms/step - loss: 2.8713e-05 - accuracy: 1.0000\n",
            "Epoch 21/50\n",
            "294/294 [==============================] - 0s 1ms/step - loss: 0.0119 - accuracy: 0.9983\n",
            "Epoch 22/50\n",
            "294/294 [==============================] - 0s 1ms/step - loss: 0.0037 - accuracy: 0.9990\n",
            "Epoch 23/50\n",
            "294/294 [==============================] - 0s 1ms/step - loss: 2.3640e-04 - accuracy: 1.0000\n",
            "Epoch 24/50\n",
            "294/294 [==============================] - 0s 1ms/step - loss: 1.1998e-04 - accuracy: 1.0000\n",
            "Epoch 25/50\n",
            "294/294 [==============================] - 0s 1ms/step - loss: 9.3375e-05 - accuracy: 1.0000\n",
            "Epoch 26/50\n",
            "294/294 [==============================] - 0s 1ms/step - loss: 3.8764e-05 - accuracy: 1.0000\n",
            "Epoch 27/50\n",
            "294/294 [==============================] - 0s 1ms/step - loss: 2.0615e-05 - accuracy: 1.0000\n",
            "Epoch 28/50\n",
            "294/294 [==============================] - 0s 2ms/step - loss: 1.6353e-05 - accuracy: 1.0000\n",
            "Epoch 29/50\n",
            "294/294 [==============================] - 0s 1ms/step - loss: 1.1398e-05 - accuracy: 1.0000\n",
            "Epoch 30/50\n",
            "294/294 [==============================] - 0s 1ms/step - loss: 9.9968e-06 - accuracy: 1.0000\n",
            "Epoch 31/50\n",
            "294/294 [==============================] - 0s 1ms/step - loss: 8.0558e-06 - accuracy: 1.0000\n",
            "Epoch 32/50\n",
            "294/294 [==============================] - 0s 1ms/step - loss: 6.0469e-06 - accuracy: 1.0000\n",
            "Epoch 33/50\n",
            "294/294 [==============================] - 0s 1ms/step - loss: 5.8802e-06 - accuracy: 1.0000\n",
            "Epoch 34/50\n",
            "294/294 [==============================] - 0s 1ms/step - loss: 4.5645e-06 - accuracy: 1.0000\n",
            "Epoch 35/50\n",
            "294/294 [==============================] - 0s 1ms/step - loss: 4.6685e-06 - accuracy: 1.0000\n",
            "Epoch 36/50\n",
            "294/294 [==============================] - 0s 1ms/step - loss: 3.7568e-06 - accuracy: 1.0000\n",
            "Epoch 37/50\n",
            "294/294 [==============================] - 0s 1ms/step - loss: 3.9814e-06 - accuracy: 1.0000\n",
            "Epoch 38/50\n",
            "294/294 [==============================] - 0s 1ms/step - loss: 2.8974e-06 - accuracy: 1.0000\n",
            "Epoch 39/50\n",
            "294/294 [==============================] - 0s 1ms/step - loss: 5.5577e-06 - accuracy: 1.0000\n",
            "Epoch 40/50\n",
            "294/294 [==============================] - 0s 1ms/step - loss: 0.0118 - accuracy: 0.9976\n",
            "Epoch 41/50\n",
            "294/294 [==============================] - 0s 1ms/step - loss: 0.0038 - accuracy: 0.9986\n",
            "Epoch 42/50\n",
            "294/294 [==============================] - 0s 1ms/step - loss: 2.6851e-04 - accuracy: 1.0000\n",
            "Epoch 43/50\n",
            "294/294 [==============================] - 0s 1ms/step - loss: 0.0065 - accuracy: 0.9980\n",
            "Epoch 44/50\n",
            "294/294 [==============================] - 0s 2ms/step - loss: 0.0023 - accuracy: 0.9986\n",
            "Epoch 45/50\n",
            "294/294 [==============================] - 0s 1ms/step - loss: 1.8618e-04 - accuracy: 1.0000\n",
            "Epoch 46/50\n",
            "294/294 [==============================] - 0s 1ms/step - loss: 7.8633e-05 - accuracy: 1.0000\n",
            "Epoch 47/50\n",
            "294/294 [==============================] - 0s 1ms/step - loss: 3.5017e-05 - accuracy: 1.0000\n",
            "Epoch 48/50\n",
            "294/294 [==============================] - 0s 1ms/step - loss: 1.4598e-05 - accuracy: 1.0000\n",
            "Epoch 49/50\n",
            "294/294 [==============================] - 0s 1ms/step - loss: 8.4823e-06 - accuracy: 1.0000\n",
            "Epoch 50/50\n",
            "294/294 [==============================] - 0s 1ms/step - loss: 5.9272e-06 - accuracy: 1.0000\n"
          ]
        }
      ]
    },
    {
      "cell_type": "code",
      "source": [
        "#accuracy\n",
        "(model.evaluate(X_test, y_test)[1])*100"
      ],
      "metadata": {
        "colab": {
          "base_uri": "https://localhost:8080/"
        },
        "id": "yM4RnlnAmXmi",
        "outputId": "8a9edb68-64a6-492f-8e97-22cbe4c26826"
      },
      "execution_count": 31,
      "outputs": [
        {
          "output_type": "stream",
          "name": "stdout",
          "text": [
            "40/40 [==============================] - 0s 2ms/step - loss: 5.0919e-04 - accuracy: 1.0000\n"
          ]
        },
        {
          "output_type": "execute_result",
          "data": {
            "text/plain": [
              "100.0"
            ]
          },
          "metadata": {},
          "execution_count": 31
        }
      ]
    },
    {
      "cell_type": "code",
      "source": [
        "import matplotlib.pyplot as plt\n",
        "import pandas as pd"
      ],
      "metadata": {
        "id": "jeHZ_00qmvqy"
      },
      "execution_count": 32,
      "outputs": []
    },
    {
      "cell_type": "code",
      "source": [
        "pd.DataFrame(history.history).plot()"
      ],
      "metadata": {
        "colab": {
          "base_uri": "https://localhost:8080/",
          "height": 283
        },
        "id": "Y-hwBgQjm-E1",
        "outputId": "6f792ae2-985e-4e82-8b9c-deb33468bc35"
      },
      "execution_count": 33,
      "outputs": [
        {
          "output_type": "execute_result",
          "data": {
            "text/plain": [
              "<matplotlib.axes._subplots.AxesSubplot at 0x7fd9842cce50>"
            ]
          },
          "metadata": {},
          "execution_count": 33
        },
        {
          "output_type": "display_data",
          "data": {
            "text/plain": [
              "<Figure size 432x288 with 1 Axes>"
            ],
            "image/png": "[encoded data removed]"
          },
          "metadata": {
            "needs_background": "light"
          }
        }
      ]
    },
    {
      "cell_type": "code",
      "source": [
        "from sklearn.metrics import classification_report\n",
        "predIdxs = model.predict(X_test)\n",
        "predIdxs = np.argmax(predIdxs, axis=1)\n",
        "# show a nicely formatted classification report\n",
        "print(classification_report(y_test, predIdxs))"
      ],
      "metadata": {
        "colab": {
          "base_uri": "https://localhost:8080/"
        },
        "id": "pt14KNRjnzqk",
        "outputId": "d73493e9-a145-4099-80bd-7f8c409c22fa"
      },
      "execution_count": 34,
      "outputs": [
        {
          "output_type": "stream",
          "name": "stdout",
          "text": [
            "              precision    recall  f1-score   support\n",
            "\n",
            "           0       0.50      1.00      0.67       632\n",
            "           1       0.00      0.00      0.00       626\n",
            "\n",
            "    accuracy                           0.50      1258\n",
            "   macro avg       0.25      0.50      0.33      1258\n",
            "weighted avg       0.25      0.50      0.34      1258\n",
            "\n"
          ]
        },
        {
          "output_type": "stream",
          "name": "stderr",
          "text": [
            "/usr/local/lib/python3.7/dist-packages/sklearn/metrics/_classification.py:1318: UndefinedMetricWarning: Precision and F-score are ill-defined and being set to 0.0 in labels with no predicted samples. Use `zero_division` parameter to control this behavior.\n",
            "  _warn_prf(average, modifier, msg_start, len(result))\n",
            "/usr/local/lib/python3.7/dist-packages/sklearn/metrics/_classification.py:1318: UndefinedMetricWarning: Precision and F-score are ill-defined and being set to 0.0 in labels with no predicted samples. Use `zero_division` parameter to control this behavior.\n",
            "  _warn_prf(average, modifier, msg_start, len(result))\n",
            "/usr/local/lib/python3.7/dist-packages/sklearn/metrics/_classification.py:1318: UndefinedMetricWarning: Precision and F-score are ill-defined and being set to 0.0 in labels with no predicted samples. Use `zero_division` parameter to control this behavior.\n",
            "  _warn_prf(average, modifier, msg_start, len(result))\n"
          ]
        }
      ]
    },
    {
      "cell_type": "code",
      "source": [
        "# Testing\n",
        "sample = X_train[0]\n",
        "predict_label(model, sample)"
      ],
      "metadata": {
        "colab": {
          "base_uri": "https://localhost:8080/"
        },
        "id": "GoporCQDnCg1",
        "outputId": "ba6bb102-e95c-47ba-8cfc-a5bc113c2b50"
      },
      "execution_count": 35,
      "outputs": [
        {
          "output_type": "stream",
          "name": "stdout",
          "text": [
            "Tweet Sentiment Is Positive\n"
          ]
        }
      ]
    },
    {
      "cell_type": "code",
      "source": [
        ""
      ],
      "metadata": {
        "id": "e9w-75O5nor_"
      },
      "execution_count": null,
      "outputs": []
    }
  ]
}